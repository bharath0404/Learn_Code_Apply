{
 "metadata": {
  "language_info": {
   "codemirror_mode": {
    "name": "ipython",
    "version": 3
   },
   "file_extension": ".py",
   "mimetype": "text/x-python",
   "name": "python",
   "nbconvert_exporter": "python",
   "pygments_lexer": "ipython3",
   "version": "3.8.3-final"
  },
  "orig_nbformat": 2,
  "kernelspec": {
   "name": "python3",
   "display_name": "Python 3"
  }
 },
 "nbformat": 4,
 "nbformat_minor": 2,
 "cells": [
  {
   "cell_type": "code",
   "execution_count": 1,
   "metadata": {},
   "outputs": [
    {
     "output_type": "stream",
     "name": "stdout",
     "text": [
      "A local file was found, but it seems to be incomplete or outdated because the auto file hash does not match the original value of 6d6bbae143d832006294945121d1f1fc so we will re-download the data.\n",
      "Downloading data from https://storage.googleapis.com/tensorflow/keras-applications/vgg16/vgg16_weights_tf_dim_ordering_tf_kernels_notop.h5\n",
      "58892288/58889256 [==============================] - 48s 1us/step\n"
     ]
    }
   ],
   "source": [
    "from keras.applications import VGG16\n",
    "\n",
    "conv_base = VGG16(weights='imagenet', include_top=False, input_shape=(150,150,3))"
   ]
  },
  {
   "cell_type": "code",
   "execution_count": 2,
   "metadata": {},
   "outputs": [
    {
     "output_type": "stream",
     "name": "stdout",
     "text": [
      "Model: \"vgg16\"\n_________________________________________________________________\nLayer (type)                 Output Shape              Param #   \n=================================================================\ninput_1 (InputLayer)         [(None, 150, 150, 3)]     0         \n_________________________________________________________________\nblock1_conv1 (Conv2D)        (None, 150, 150, 64)      1792      \n_________________________________________________________________\nblock1_conv2 (Conv2D)        (None, 150, 150, 64)      36928     \n_________________________________________________________________\nblock1_pool (MaxPooling2D)   (None, 75, 75, 64)        0         \n_________________________________________________________________\nblock2_conv1 (Conv2D)        (None, 75, 75, 128)       73856     \n_________________________________________________________________\nblock2_conv2 (Conv2D)        (None, 75, 75, 128)       147584    \n_________________________________________________________________\nblock2_pool (MaxPooling2D)   (None, 37, 37, 128)       0         \n_________________________________________________________________\nblock3_conv1 (Conv2D)        (None, 37, 37, 256)       295168    \n_________________________________________________________________\nblock3_conv2 (Conv2D)        (None, 37, 37, 256)       590080    \n_________________________________________________________________\nblock3_conv3 (Conv2D)        (None, 37, 37, 256)       590080    \n_________________________________________________________________\nblock3_pool (MaxPooling2D)   (None, 18, 18, 256)       0         \n_________________________________________________________________\nblock4_conv1 (Conv2D)        (None, 18, 18, 512)       1180160   \n_________________________________________________________________\nblock4_conv2 (Conv2D)        (None, 18, 18, 512)       2359808   \n_________________________________________________________________\nblock4_conv3 (Conv2D)        (None, 18, 18, 512)       2359808   \n_________________________________________________________________\nblock4_pool (MaxPooling2D)   (None, 9, 9, 512)         0         \n_________________________________________________________________\nblock5_conv1 (Conv2D)        (None, 9, 9, 512)         2359808   \n_________________________________________________________________\nblock5_conv2 (Conv2D)        (None, 9, 9, 512)         2359808   \n_________________________________________________________________\nblock5_conv3 (Conv2D)        (None, 9, 9, 512)         2359808   \n_________________________________________________________________\nblock5_pool (MaxPooling2D)   (None, 4, 4, 512)         0         \n=================================================================\nTotal params: 14,714,688\nTrainable params: 14,714,688\nNon-trainable params: 0\n_________________________________________________________________\n"
     ]
    }
   ],
   "source": [
    "conv_base.summary()"
   ]
  },
  {
   "cell_type": "code",
   "execution_count": 3,
   "metadata": {},
   "outputs": [
    {
     "output_type": "stream",
     "name": "stdout",
     "text": [
      "Found 2000 images belonging to 2 classes.\n",
      "Found 1000 images belonging to 2 classes.\n",
      "Found 1000 images belonging to 2 classes.\n"
     ]
    }
   ],
   "source": [
    "import os\n",
    "import numpy as np \n",
    "from keras.preprocessing.image import ImageDataGenerator\n",
    "\n",
    "base_dir = '/home/bharath/Downloads/cats_and_dogs_small'\n",
    "train_dir = os.path.join(base_dir,'train')\n",
    "validation_dir = os.path.join(base_dir, 'validation')\n",
    "test_dir = os.path.join(base_dir,'test')\n",
    "\n",
    "datagen = ImageDataGenerator(rescale=1./255)\n",
    "batch_size = 20\n",
    "\n",
    "def extract_features(directory, sample_count):\n",
    "    features = np.zeros(shape=(sample_count,4,4,512))\n",
    "    labels = np.zeros(shape=(sample_count))\n",
    "    generator = datagen.flow_from_directory(directory,target_size=(150,150),batch_size=batch_size, class_mode='binary')\n",
    "    i = 0\n",
    "    for inputs_batch, labels_batch in generator:\n",
    "        features_batch = conv_base.predict(inputs_batch)\n",
    "        features[i*batch_size:(i+1)*batch_size] = features_batch\n",
    "        labels[i*batch_size:(i+1)*batch_size] = labels_batch\n",
    "        i+=1\n",
    "        if i*batch_size >= sample_count:\n",
    "            break\n",
    "    return features, labels\n",
    "\n",
    "train_features, train_labels = extract_features(train_dir,2000)\n",
    "validation_features, validation_labels = extract_features(validation_dir, 1000)\n",
    "test_features, test_labels = extract_features(test_dir, 1000)\n",
    "\n",
    "train_features = np.reshape(train_features, (2000, 4*4*512))\n",
    "validation_features = np.reshape(validation_features, (1000, 4*4*512))\n",
    "test_features = np.reshape(test_features, (1000, 4*4*512))"
   ]
  },
  {
   "cell_type": "code",
   "execution_count": 4,
   "metadata": {},
   "outputs": [
    {
     "output_type": "stream",
     "name": "stdout",
     "text": [
      "Epoch 1/30\n",
      "100/100 [==============================] - 2s 22ms/step - loss: 0.6128 - accuracy: 0.6655 - val_loss: 0.4618 - val_accuracy: 0.8350\n",
      "Epoch 2/30\n",
      "100/100 [==============================] - 2s 17ms/step - loss: 0.4307 - accuracy: 0.8140 - val_loss: 0.3822 - val_accuracy: 0.8500\n",
      "Epoch 3/30\n",
      "100/100 [==============================] - 2s 19ms/step - loss: 0.3554 - accuracy: 0.8510 - val_loss: 0.3255 - val_accuracy: 0.8760\n",
      "Epoch 4/30\n",
      "100/100 [==============================] - 2s 17ms/step - loss: 0.3177 - accuracy: 0.8745 - val_loss: 0.3005 - val_accuracy: 0.8860\n",
      "Epoch 5/30\n",
      "100/100 [==============================] - 2s 18ms/step - loss: 0.2814 - accuracy: 0.8935 - val_loss: 0.2833 - val_accuracy: 0.8930\n",
      "Epoch 6/30\n",
      "100/100 [==============================] - 2s 19ms/step - loss: 0.2771 - accuracy: 0.8915 - val_loss: 0.2725 - val_accuracy: 0.8920\n",
      "Epoch 7/30\n",
      "100/100 [==============================] - 2s 18ms/step - loss: 0.2607 - accuracy: 0.8980 - val_loss: 0.2656 - val_accuracy: 0.8900\n",
      "Epoch 8/30\n",
      "100/100 [==============================] - 2s 19ms/step - loss: 0.2359 - accuracy: 0.9085 - val_loss: 0.2569 - val_accuracy: 0.8970\n",
      "Epoch 9/30\n",
      "100/100 [==============================] - 2s 18ms/step - loss: 0.2281 - accuracy: 0.9140 - val_loss: 0.2666 - val_accuracy: 0.8850\n",
      "Epoch 10/30\n",
      "100/100 [==============================] - 2s 19ms/step - loss: 0.2074 - accuracy: 0.9235 - val_loss: 0.2472 - val_accuracy: 0.9010\n",
      "Epoch 11/30\n",
      "100/100 [==============================] - 2s 20ms/step - loss: 0.1990 - accuracy: 0.9270 - val_loss: 0.2428 - val_accuracy: 0.8990\n",
      "Epoch 12/30\n",
      "100/100 [==============================] - 2s 19ms/step - loss: 0.1864 - accuracy: 0.9320 - val_loss: 0.2403 - val_accuracy: 0.8990\n",
      "Epoch 13/30\n",
      "100/100 [==============================] - 2s 18ms/step - loss: 0.1875 - accuracy: 0.9285 - val_loss: 0.2414 - val_accuracy: 0.8990\n",
      "Epoch 14/30\n",
      "100/100 [==============================] - 2s 19ms/step - loss: 0.1645 - accuracy: 0.9395 - val_loss: 0.2355 - val_accuracy: 0.9040\n",
      "Epoch 15/30\n",
      "100/100 [==============================] - 2s 19ms/step - loss: 0.1671 - accuracy: 0.9415 - val_loss: 0.2361 - val_accuracy: 0.8980\n",
      "Epoch 16/30\n",
      "100/100 [==============================] - 2s 18ms/step - loss: 0.1608 - accuracy: 0.9380 - val_loss: 0.2353 - val_accuracy: 0.9030\n",
      "Epoch 17/30\n",
      "100/100 [==============================] - 2s 19ms/step - loss: 0.1495 - accuracy: 0.9475 - val_loss: 0.2343 - val_accuracy: 0.9000\n",
      "Epoch 18/30\n",
      "100/100 [==============================] - 2s 19ms/step - loss: 0.1483 - accuracy: 0.9480 - val_loss: 0.2363 - val_accuracy: 0.9010\n",
      "Epoch 19/30\n",
      "100/100 [==============================] - 2s 19ms/step - loss: 0.1408 - accuracy: 0.9515 - val_loss: 0.2313 - val_accuracy: 0.9040\n",
      "Epoch 20/30\n",
      "100/100 [==============================] - 2s 17ms/step - loss: 0.1368 - accuracy: 0.9570 - val_loss: 0.2394 - val_accuracy: 0.8990\n",
      "Epoch 21/30\n",
      "100/100 [==============================] - 2s 19ms/step - loss: 0.1324 - accuracy: 0.9585 - val_loss: 0.2345 - val_accuracy: 0.9040\n",
      "Epoch 22/30\n",
      "100/100 [==============================] - 2s 17ms/step - loss: 0.1256 - accuracy: 0.9600 - val_loss: 0.2302 - val_accuracy: 0.9070\n",
      "Epoch 23/30\n",
      "100/100 [==============================] - 2s 18ms/step - loss: 0.1230 - accuracy: 0.9575 - val_loss: 0.2306 - val_accuracy: 0.9040\n",
      "Epoch 24/30\n",
      "100/100 [==============================] - 2s 19ms/step - loss: 0.1177 - accuracy: 0.9610 - val_loss: 0.2407 - val_accuracy: 0.8990\n",
      "Epoch 25/30\n",
      "100/100 [==============================] - 2s 18ms/step - loss: 0.1126 - accuracy: 0.9620 - val_loss: 0.2551 - val_accuracy: 0.8920\n",
      "Epoch 26/30\n",
      "100/100 [==============================] - 2s 18ms/step - loss: 0.1038 - accuracy: 0.9695 - val_loss: 0.2358 - val_accuracy: 0.9030\n",
      "Epoch 27/30\n",
      "100/100 [==============================] - 2s 17ms/step - loss: 0.1070 - accuracy: 0.9655 - val_loss: 0.2317 - val_accuracy: 0.9050\n",
      "Epoch 28/30\n",
      "100/100 [==============================] - 2s 18ms/step - loss: 0.1011 - accuracy: 0.9655 - val_loss: 0.2404 - val_accuracy: 0.9020\n",
      "Epoch 29/30\n",
      "100/100 [==============================] - 2s 19ms/step - loss: 0.0954 - accuracy: 0.9690 - val_loss: 0.2328 - val_accuracy: 0.9030\n",
      "Epoch 30/30\n",
      "100/100 [==============================] - 2s 18ms/step - loss: 0.0937 - accuracy: 0.9720 - val_loss: 0.2356 - val_accuracy: 0.9070\n"
     ]
    }
   ],
   "source": [
    "from keras import layers, models, optimizers\n",
    "\n",
    "model = models.Sequential()\n",
    "model.add(layers.Dense(256, activation='relu', input_dim=4*4*512))\n",
    "model.add(layers.Dropout(0.5))\n",
    "model.add(layers.Dense(1, activation='sigmoid'))\n",
    "\n",
    "model.compile(optimizer=optimizers.RMSprop(learning_rate=2e-5), loss='binary_crossentropy', metrics=['accuracy'])\n",
    "history = model.fit(train_features, train_labels, epochs=30, batch_size=20, validation_data=(validation_features, validation_labels))"
   ]
  },
  {
   "cell_type": "code",
   "execution_count": null,
   "metadata": {},
   "outputs": [],
   "source": [
    "import matplotlib.pyplot as plt\n",
    "acc = history.history['accuracy']\n",
    "val_acc = history.history['val_accuracy']\n",
    "loss = history.history['loss']\n",
    "val_loss = history.history['val_loss']\n",
    "epochs = range(1, len(acc) + 1)\n",
    "plt.plot(epochs, acc, 'bo', label='Training acc')\n",
    "plt.plot(epochs, val_acc, 'b', label='Validation acc')\n",
    "plt.title('Training and validation accuracy')\n",
    "plt.legend()\n",
    "plt.figure()\n",
    "plt.plot(epochs, loss, 'bo', label='Training loss')\n",
    "plt.plot(epochs, val_loss, 'b', label='Validation loss')\n",
    "plt.title('Training and validation loss')\n",
    "plt.legend()\n",
    "plt.show()"
   ]
  }
 ]
}